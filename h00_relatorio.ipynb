{
 "cells": [
  {
   "cell_type": "markdown",
   "metadata": {},
   "source": [
    "# Descrição dos entregáveis do Hands-on 00\n",
    "\n",
    "\n",
    "### D01: Criação de máquina virtual como especificado em [Hands-on 00: Criação de máquina virtual Ubuntu](https://github.com/vicentesousa/DCO2004_LabPSC/blob/master/h00_VM.ipynb).\n",
    "\n",
    "### D02: Cadastramento e criação de repositório no Github, como especificado em [Hands-on 00: Github: criação de seu próprio repositório](https://github.com/vicentesousa/DCO2004_LabPSC/blob/master/h00_GIT.ipynb).\n",
    "\n",
    "### D03: Construção do arquivo _Pratica01.ipynb_, como especificado em  [Hands-on 00: Básico do Jupyter Notebook: Instalação e prática](https://github.com/vicentesousa/DCO2004_LabPSC/blob/master/h00_BJ.ipynb), e seu armazenamento no seu respositório do Github (_add_, _commit_ e _push_).\n",
    "\n",
    "### D04: Construção do arquivo _testMatlab.ipynb_, como especificado em [Hands-on 00: Jupyter Notebook para Matlab: Instalação de Kernel](https://github.com/vicentesousa/DCO2004_LabPSC/blob/master/h00_JM.ipynb),  e seu armazenamento no seu respositório do Github  (_add_, _commit_ e _push_).\n",
    "\n",
    "\n",
    "## Data da entrega: 07/08/2017\n",
    "\n"
   ]
  }
 ],
 "metadata": {
  "kernelspec": {
   "display_name": "Python 3",
   "language": "python",
   "name": "python3"
  },
  "language_info": {
   "codemirror_mode": {
    "name": "ipython",
    "version": 3
   },
   "file_extension": ".py",
   "mimetype": "text/x-python",
   "name": "python",
   "nbconvert_exporter": "python",
   "pygments_lexer": "ipython3",
   "version": "3.4.5"
  },
  "latex_envs": {
   "LaTeX_envs_menu_present": true,
   "bibliofile": "biblio.bib",
   "cite_by": "apalike",
   "current_citInitial": 1,
   "eqLabelWithNumbers": true,
   "eqNumInitial": 1,
   "hotkeys": {
    "equation": "Ctrl-E",
    "itemize": "Ctrl-I"
   },
   "labels_anchors": false,
   "latex_user_defs": false,
   "report_style_numbering": false,
   "user_envs_cfg": false
  }
 },
 "nbformat": 4,
 "nbformat_minor": 2
}
